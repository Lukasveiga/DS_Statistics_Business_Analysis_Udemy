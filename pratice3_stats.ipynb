{
 "cells": [
  {
   "cell_type": "markdown",
   "metadata": {},
   "source": [
    "### **Atividade Prática 3 do Curso: Statistics for Data Science and Business Analysis (Udemy)**\n",
    "\n",
    "**Conteúdos abordados nessa seção:**<br>\n",
    "    - Teste de hipótese: Amostras independentes;\n",
    "    - T-Teste, variância da população desconhecida.\n",
    "\n",
    "Gender pay gap: Test whether a particular company is discriminating against employees on the basis of gender and ethnicity."
   ]
  },
  {
   "cell_type": "markdown",
   "metadata": {},
   "source": [
    "* **Importando as bibliotecas**"
   ]
  },
  {
   "cell_type": "code",
   "execution_count": 1,
   "metadata": {},
   "outputs": [],
   "source": [
    "# Bibliotecas básicas\n",
    "import numpy as np\n",
    "import pandas as pd\n",
    "\n",
    "# Bibliotecas de Visualização\n",
    "import seaborn as sns\n",
    "import matplotlib.pyplot as plt\n",
    "\n",
    "## Configurações de Visualização\n",
    "%matplotlib inline\n",
    "sns.set_style('darkgrid')\n",
    "sns.set_context('paper', font_scale = 1.3)"
   ]
  },
  {
   "cell_type": "markdown",
   "metadata": {},
   "source": [
    "* **Importando o dataset**"
   ]
  },
  {
   "cell_type": "code",
   "execution_count": 2,
   "metadata": {},
   "outputs": [
    {
     "data": {
      "text/html": [
       "<div>\n",
       "<style scoped>\n",
       "    .dataframe tbody tr th:only-of-type {\n",
       "        vertical-align: middle;\n",
       "    }\n",
       "\n",
       "    .dataframe tbody tr th {\n",
       "        vertical-align: top;\n",
       "    }\n",
       "\n",
       "    .dataframe thead th {\n",
       "        text-align: right;\n",
       "    }\n",
       "</style>\n",
       "<table border=\"1\" class=\"dataframe\">\n",
       "  <thead>\n",
       "    <tr style=\"text-align: right;\">\n",
       "      <th></th>\n",
       "      <th>Surname</th>\n",
       "      <th>Name</th>\n",
       "      <th>Age</th>\n",
       "      <th>Gender</th>\n",
       "      <th>Country</th>\n",
       "      <th>Ethnicity</th>\n",
       "      <th>Start_date</th>\n",
       "      <th>Department</th>\n",
       "      <th>Position</th>\n",
       "      <th>Salary</th>\n",
       "    </tr>\n",
       "  </thead>\n",
       "  <tbody>\n",
       "    <tr>\n",
       "      <th>0</th>\n",
       "      <td>Sweetwater</td>\n",
       "      <td>Alex</td>\n",
       "      <td>51</td>\n",
       "      <td>Male</td>\n",
       "      <td>United States</td>\n",
       "      <td>White</td>\n",
       "      <td>2011-08-15</td>\n",
       "      <td>Software Engineering</td>\n",
       "      <td>Software Engineering Manager</td>\n",
       "      <td>56160.0</td>\n",
       "    </tr>\n",
       "    <tr>\n",
       "      <th>1</th>\n",
       "      <td>Carabbio</td>\n",
       "      <td>Judith</td>\n",
       "      <td>30</td>\n",
       "      <td>Female</td>\n",
       "      <td>United States</td>\n",
       "      <td>White</td>\n",
       "      <td>2013-11-11</td>\n",
       "      <td>Software Engineering</td>\n",
       "      <td>Software Engineer</td>\n",
       "      <td>116480.0</td>\n",
       "    </tr>\n",
       "    <tr>\n",
       "      <th>2</th>\n",
       "      <td>Saada</td>\n",
       "      <td>Adell</td>\n",
       "      <td>31</td>\n",
       "      <td>Female</td>\n",
       "      <td>United States</td>\n",
       "      <td>White</td>\n",
       "      <td>2012-11-05</td>\n",
       "      <td>Software Engineering</td>\n",
       "      <td>Software Engineer</td>\n",
       "      <td>102440.0</td>\n",
       "    </tr>\n",
       "    <tr>\n",
       "      <th>3</th>\n",
       "      <td>Szabo</td>\n",
       "      <td>Andrew</td>\n",
       "      <td>34</td>\n",
       "      <td>Male</td>\n",
       "      <td>United States</td>\n",
       "      <td>White</td>\n",
       "      <td>2014-07-07</td>\n",
       "      <td>Software Engineering</td>\n",
       "      <td>Software Engineer</td>\n",
       "      <td>99840.0</td>\n",
       "    </tr>\n",
       "    <tr>\n",
       "      <th>4</th>\n",
       "      <td>Andreola</td>\n",
       "      <td>Colby</td>\n",
       "      <td>38</td>\n",
       "      <td>Female</td>\n",
       "      <td>United States</td>\n",
       "      <td>White</td>\n",
       "      <td>2014-11-10</td>\n",
       "      <td>Software Engineering</td>\n",
       "      <td>Software Engineer</td>\n",
       "      <td>99008.0</td>\n",
       "    </tr>\n",
       "  </tbody>\n",
       "</table>\n",
       "</div>"
      ],
      "text/plain": [
       "      Surname    Name  Age  Gender        Country Ethnicity Start_date  \\\n",
       "0  Sweetwater    Alex   51    Male  United States     White 2011-08-15   \n",
       "1    Carabbio  Judith   30  Female  United States     White 2013-11-11   \n",
       "2       Saada   Adell   31  Female  United States     White 2012-11-05   \n",
       "3       Szabo  Andrew   34    Male  United States     White 2014-07-07   \n",
       "4    Andreola   Colby   38  Female  United States     White 2014-11-10   \n",
       "\n",
       "                  Department                      Position    Salary  \n",
       "0  Software Engineering       Software Engineering Manager   56160.0  \n",
       "1       Software Engineering             Software Engineer  116480.0  \n",
       "2       Software Engineering             Software Engineer  102440.0  \n",
       "3       Software Engineering             Software Engineer   99840.0  \n",
       "4       Software Engineering             Software Engineer   99008.0  "
      ]
     },
     "execution_count": 2,
     "metadata": {},
     "output_type": "execute_result"
    }
   ],
   "source": [
    "path = 'datasets/4.10.example_exercise.xlsx'\n",
    "df = pd.read_excel(path)\n",
    "\n",
    "df.head()"
   ]
  },
  {
   "cell_type": "code",
   "execution_count": 3,
   "metadata": {},
   "outputs": [
    {
     "name": "stdout",
     "output_type": "stream",
     "text": [
      "<class 'pandas.core.frame.DataFrame'>\n",
      "RangeIndex: 174 entries, 0 to 173\n",
      "Data columns (total 10 columns):\n",
      " #   Column      Non-Null Count  Dtype         \n",
      "---  ------      --------------  -----         \n",
      " 0   Surname     174 non-null    object        \n",
      " 1   Name        174 non-null    object        \n",
      " 2   Age         174 non-null    int64         \n",
      " 3   Gender      174 non-null    object        \n",
      " 4   Country     174 non-null    object        \n",
      " 5   Ethnicity   174 non-null    object        \n",
      " 6   Start_date  174 non-null    datetime64[ns]\n",
      " 7   Department  174 non-null    object        \n",
      " 8   Position    174 non-null    object        \n",
      " 9   Salary      174 non-null    float64       \n",
      "dtypes: datetime64[ns](1), float64(1), int64(1), object(7)\n",
      "memory usage: 13.7+ KB\n"
     ]
    }
   ],
   "source": [
    "df.info()"
   ]
  },
  {
   "cell_type": "code",
   "execution_count": 4,
   "metadata": {},
   "outputs": [
    {
     "data": {
      "text/plain": [
       "Surname       0\n",
       "Name          0\n",
       "Age           0\n",
       "Gender        0\n",
       "Country       0\n",
       "Ethnicity     0\n",
       "Start_date    0\n",
       "Department    0\n",
       "Position      0\n",
       "Salary        0\n",
       "dtype: int64"
      ]
     },
     "execution_count": 4,
     "metadata": {},
     "output_type": "execute_result"
    }
   ],
   "source": [
    "# Missing values\n",
    "df.isna().sum()"
   ]
  },
  {
   "cell_type": "code",
   "execution_count": 5,
   "metadata": {},
   "outputs": [
    {
     "data": {
      "text/html": [
       "<div>\n",
       "<style scoped>\n",
       "    .dataframe tbody tr th:only-of-type {\n",
       "        vertical-align: middle;\n",
       "    }\n",
       "\n",
       "    .dataframe tbody tr th {\n",
       "        vertical-align: top;\n",
       "    }\n",
       "\n",
       "    .dataframe thead th {\n",
       "        text-align: right;\n",
       "    }\n",
       "</style>\n",
       "<table border=\"1\" class=\"dataframe\">\n",
       "  <thead>\n",
       "    <tr style=\"text-align: right;\">\n",
       "      <th></th>\n",
       "      <th>count</th>\n",
       "      <th>unique</th>\n",
       "      <th>top</th>\n",
       "      <th>freq</th>\n",
       "    </tr>\n",
       "  </thead>\n",
       "  <tbody>\n",
       "    <tr>\n",
       "      <th>Surname</th>\n",
       "      <td>174</td>\n",
       "      <td>169</td>\n",
       "      <td>Smith</td>\n",
       "      <td>3</td>\n",
       "    </tr>\n",
       "    <tr>\n",
       "      <th>Name</th>\n",
       "      <td>174</td>\n",
       "      <td>154</td>\n",
       "      <td>Michael</td>\n",
       "      <td>3</td>\n",
       "    </tr>\n",
       "    <tr>\n",
       "      <th>Gender</th>\n",
       "      <td>174</td>\n",
       "      <td>2</td>\n",
       "      <td>Female</td>\n",
       "      <td>98</td>\n",
       "    </tr>\n",
       "    <tr>\n",
       "      <th>Country</th>\n",
       "      <td>174</td>\n",
       "      <td>6</td>\n",
       "      <td>United States</td>\n",
       "      <td>166</td>\n",
       "    </tr>\n",
       "    <tr>\n",
       "      <th>Ethnicity</th>\n",
       "      <td>174</td>\n",
       "      <td>5</td>\n",
       "      <td>White</td>\n",
       "      <td>112</td>\n",
       "    </tr>\n",
       "    <tr>\n",
       "      <th>Department</th>\n",
       "      <td>174</td>\n",
       "      <td>7</td>\n",
       "      <td>Production</td>\n",
       "      <td>106</td>\n",
       "    </tr>\n",
       "    <tr>\n",
       "      <th>Position</th>\n",
       "      <td>174</td>\n",
       "      <td>23</td>\n",
       "      <td>Production Technician I</td>\n",
       "      <td>73</td>\n",
       "    </tr>\n",
       "  </tbody>\n",
       "</table>\n",
       "</div>"
      ],
      "text/plain": [
       "           count unique                      top freq\n",
       "Surname      174    169                    Smith    3\n",
       "Name         174    154                  Michael    3\n",
       "Gender       174      2                   Female   98\n",
       "Country      174      6            United States  166\n",
       "Ethnicity    174      5                    White  112\n",
       "Department   174      7        Production         106\n",
       "Position     174     23  Production Technician I   73"
      ]
     },
     "execution_count": 5,
     "metadata": {},
     "output_type": "execute_result"
    }
   ],
   "source": [
    "# Descriptive statistics\n",
    "df.describe(include=[object]).T"
   ]
  },
  {
   "cell_type": "code",
   "execution_count": 6,
   "metadata": {},
   "outputs": [
    {
     "data": {
      "text/html": [
       "<div>\n",
       "<style scoped>\n",
       "    .dataframe tbody tr th:only-of-type {\n",
       "        vertical-align: middle;\n",
       "    }\n",
       "\n",
       "    .dataframe tbody tr th {\n",
       "        vertical-align: top;\n",
       "    }\n",
       "\n",
       "    .dataframe thead th {\n",
       "        text-align: right;\n",
       "    }\n",
       "</style>\n",
       "<table border=\"1\" class=\"dataframe\">\n",
       "  <thead>\n",
       "    <tr style=\"text-align: right;\">\n",
       "      <th></th>\n",
       "      <th>count</th>\n",
       "      <th>mean</th>\n",
       "      <th>std</th>\n",
       "      <th>min</th>\n",
       "      <th>25%</th>\n",
       "      <th>50%</th>\n",
       "      <th>75%</th>\n",
       "      <th>max</th>\n",
       "    </tr>\n",
       "  </thead>\n",
       "  <tbody>\n",
       "    <tr>\n",
       "      <th>Age</th>\n",
       "      <td>174.0</td>\n",
       "      <td>37.793103</td>\n",
       "      <td>8.384734</td>\n",
       "      <td>25.0</td>\n",
       "      <td>31.0</td>\n",
       "      <td>36.0</td>\n",
       "      <td>43.0</td>\n",
       "      <td>67.0</td>\n",
       "    </tr>\n",
       "    <tr>\n",
       "      <th>Salary</th>\n",
       "      <td>174.0</td>\n",
       "      <td>68603.779310</td>\n",
       "      <td>34121.543021</td>\n",
       "      <td>29120.0</td>\n",
       "      <td>41600.0</td>\n",
       "      <td>52000.0</td>\n",
       "      <td>110240.0</td>\n",
       "      <td>166400.0</td>\n",
       "    </tr>\n",
       "  </tbody>\n",
       "</table>\n",
       "</div>"
      ],
      "text/plain": [
       "        count          mean           std      min      25%      50%  \\\n",
       "Age     174.0     37.793103      8.384734     25.0     31.0     36.0   \n",
       "Salary  174.0  68603.779310  34121.543021  29120.0  41600.0  52000.0   \n",
       "\n",
       "             75%       max  \n",
       "Age         43.0      67.0  \n",
       "Salary  110240.0  166400.0  "
      ]
     },
     "execution_count": 6,
     "metadata": {},
     "output_type": "execute_result"
    }
   ],
   "source": [
    "# Descriptive statistics\n",
    "df.describe().T"
   ]
  },
  {
   "cell_type": "markdown",
   "metadata": {},
   "source": [
    "* **EDA**"
   ]
  },
  {
   "cell_type": "code",
   "execution_count": 7,
   "metadata": {},
   "outputs": [],
   "source": [
    "# We will split the ethnicity between white and others ethnicities.\n",
    "df['Ethnicity_val'] = df['Ethnicity'].map(lambda x: 'White' if x == 'White' else 'Other_Ethnicity')"
   ]
  },
  {
   "cell_type": "code",
   "execution_count": 8,
   "metadata": {},
   "outputs": [
    {
     "data": {
      "image/png": "[encoded data removed]",
      "text/plain": [
       "<Figure size 1152x432 with 2 Axes>"
      ]
     },
     "metadata": {},
     "output_type": "display_data"
    }
   ],
   "source": [
    "# See the salary distribution by gender\n",
    "fig, ax = plt.subplots(1,2, figsize = (16,6))\n",
    "sns.boxplot(data = df, x = 'Gender', y = 'Salary', ax = ax[0])\n",
    "sns.boxplot(data = df, x = 'Ethnicity_val', y = 'Salary', ax = ax[1])\n",
    "\n",
    "plt.tight_layout()"
   ]
  },
  {
   "cell_type": "code",
   "execution_count": 9,
   "metadata": {},
   "outputs": [
    {
     "data": {
      "text/html": [
       "<div>\n",
       "<style scoped>\n",
       "    .dataframe tbody tr th:only-of-type {\n",
       "        vertical-align: middle;\n",
       "    }\n",
       "\n",
       "    .dataframe tbody tr th {\n",
       "        vertical-align: top;\n",
       "    }\n",
       "\n",
       "    .dataframe thead th {\n",
       "        text-align: right;\n",
       "    }\n",
       "</style>\n",
       "<table border=\"1\" class=\"dataframe\">\n",
       "  <thead>\n",
       "    <tr style=\"text-align: right;\">\n",
       "      <th></th>\n",
       "      <th>Surname</th>\n",
       "      <th>Name</th>\n",
       "      <th>Age</th>\n",
       "      <th>Gender</th>\n",
       "      <th>Country</th>\n",
       "      <th>Ethnicity</th>\n",
       "      <th>Start_date</th>\n",
       "      <th>Department</th>\n",
       "      <th>Position</th>\n",
       "      <th>Salary</th>\n",
       "      <th>Ethnicity_val</th>\n",
       "    </tr>\n",
       "  </thead>\n",
       "  <tbody>\n",
       "    <tr>\n",
       "      <th>106</th>\n",
       "      <td>Bold</td>\n",
       "      <td>Caroline</td>\n",
       "      <td>63</td>\n",
       "      <td>Female</td>\n",
       "      <td>United States</td>\n",
       "      <td>White</td>\n",
       "      <td>2012-07-02</td>\n",
       "      <td>Executive Office</td>\n",
       "      <td>President &amp; CEO</td>\n",
       "      <td>166400.0</td>\n",
       "      <td>White</td>\n",
       "    </tr>\n",
       "  </tbody>\n",
       "</table>\n",
       "</div>"
      ],
      "text/plain": [
       "    Surname      Name  Age  Gender        Country Ethnicity Start_date  \\\n",
       "106    Bold  Caroline   63  Female  United States     White 2012-07-02   \n",
       "\n",
       "           Department         Position    Salary Ethnicity_val  \n",
       "106  Executive Office  President & CEO  166400.0         White  "
      ]
     },
     "execution_count": 9,
     "metadata": {},
     "output_type": "execute_result"
    }
   ],
   "source": [
    "# Looking for the boxplot graphs we can see a probabily outlier in the salary vaiable. We need to check to avoid misinterpretations.\n",
    "df.query('Salary > 140000')"
   ]
  },
  {
   "cell_type": "code",
   "execution_count": 10,
   "metadata": {},
   "outputs": [],
   "source": [
    "# Let's remove the value because it is the presidency position, because there is no other similar position for comparisons\n",
    "df_filtered = df.query('Salary <= 140000')"
   ]
  },
  {
   "cell_type": "code",
   "execution_count": 11,
   "metadata": {},
   "outputs": [
    {
     "data": {
      "image/png": "[encoded data removed]",
      "text/plain": [
       "<Figure size 1152x432 with 2 Axes>"
      ]
     },
     "metadata": {},
     "output_type": "display_data"
    }
   ],
   "source": [
    "fig, ax = plt.subplots(1,2, figsize = (16,6))\n",
    "sns.boxplot(data = df_filtered, x = 'Gender', y = 'Salary', ax = ax[0])\n",
    "sns.boxplot(data = df_filtered, x = 'Ethnicity_val', y = 'Salary', ax = ax[1])\n",
    "\n",
    "plt.tight_layout()"
   ]
  },
  {
   "cell_type": "markdown",
   "metadata": {},
   "source": [
    "- **1. We will test 2 hypothesis for 4 Age groups: <= 30, > 30 and <= 40, > 40 and <=50, and > 50.**\n",
    "\n",
    "    - Hypothesis 1: The mean Man Salary is bigger than Female Salary:\n",
    "\n",
    "                 - H0: The mean Salary between Man and Female are equal i.e., μ1 = μ2\n",
    "                 - H1: The mean Salary between Man and Female are different i.e., μ1 != μ2\n",
    "                 \n",
    "    - Hypothesis 2: The mean White Ethnicity Salary is bigger than Others Ethnicity Salary.\n",
    "    \n",
    "                 - H0: The mean Salary between Ethnicitys are equal i.e., μ1 = μ2\n",
    "                 - H1: The mean Salary between Ethnicitys are different i.e., μ1 != μ2"
   ]
  },
  {
   "cell_type": "code",
   "execution_count": 12,
   "metadata": {},
   "outputs": [],
   "source": [
    "# Function to calculate the T-Statistic for independent samples\n",
    "from scipy import stats\n",
    "\n",
    "def T_test(data1, data2, alpha = 0.05):\n",
    "    t_value,p_value=stats.ttest_ind(data1, data2)\n",
    "    \n",
    "    print('Test statistic is %f'%float(\"{:.6f}\".format(t_value)))\n",
    "\n",
    "    print('p-value for two tailed test is %f'%p_value)\n",
    "\n",
    "    alpha = alpha\n",
    "\n",
    "    if p_value <= alpha:\n",
    "\n",
    "        print('We reject the null hypothesis H0.')\n",
    "    else:\n",
    "        print('We do not reject the null hypothesis H0.')"
   ]
  },
  {
   "cell_type": "code",
   "execution_count": 13,
   "metadata": {},
   "outputs": [
    {
     "name": "stdout",
     "output_type": "stream",
     "text": [
      "Test statistic is 0.578376\n",
      "p-value for two tailed test is 0.566822\n",
      "We do not reject the null hypothesis H0.\n",
      "Test statistic is 0.062945\n",
      "p-value for two tailed test is 0.949962\n",
      "We do not reject the null hypothesis H0.\n",
      "Test statistic is 1.436062\n",
      "p-value for two tailed test is 0.152974\n",
      "We do not reject the null hypothesis H0.\n",
      "Test statistic is 0.398366\n",
      "p-value for two tailed test is 0.697357\n",
      "We do not reject the null hypothesis H0.\n"
     ]
    }
   ],
   "source": [
    "# First: Salary between Genders and Ages\n",
    "data_test = df_filtered.query('Age <= 30')\n",
    "\n",
    "T_test(data_test[data_test['Gender'] == 'Male']['Salary'],\n",
    "                                data_test[data_test['Gender'] == 'Female']['Salary'])\n",
    "\n",
    "\n",
    "data_test = df_filtered.query('Age > 30 & Age <= 40')\n",
    "\n",
    "T_test(data_test[data_test['Gender'] == 'Male']['Salary'],\n",
    "                                data_test[data_test['Gender'] == 'Female']['Salary'])\n",
    "\n",
    "data_test = df_filtered.query('Age > 10 & Age <= 50')\n",
    "\n",
    "T_test(data_test[data_test['Gender'] == 'Male']['Salary'],\n",
    "                                data_test[data_test['Gender'] == 'Female']['Salary'])\n",
    "\n",
    "data_test = df_filtered.query('Age > 50')\n",
    "\n",
    "T_test(data_test[data_test['Gender'] == 'Male']['Salary'],\n",
    "                                data_test[data_test['Gender'] == 'Female']['Salary'])"
   ]
  },
  {
   "cell_type": "code",
   "execution_count": 14,
   "metadata": {},
   "outputs": [
    {
     "name": "stdout",
     "output_type": "stream",
     "text": [
      "Test statistic is -1.267992\n",
      "p-value for two tailed test is 0.213415\n",
      "We do not reject the null hypothesis H0.\n",
      "Test statistic is -0.515027\n",
      "p-value for two tailed test is 0.607903\n",
      "We do not reject the null hypothesis H0.\n",
      "Test statistic is -0.700099\n",
      "p-value for two tailed test is 0.484902\n",
      "We do not reject the null hypothesis H0.\n",
      "Test statistic is -0.880328\n",
      "p-value for two tailed test is 0.395970\n",
      "We do not reject the null hypothesis H0.\n"
     ]
    }
   ],
   "source": [
    "# Second: Salary between Ethnicitys and Ages\n",
    "data_test = df_filtered.query('Age <= 30')\n",
    "\n",
    "T_test(data_test[data_test['Ethnicity'] == 'White']['Salary'],\n",
    "                                data_test[data_test['Ethnicity'] != 'White']['Salary'])\n",
    "\n",
    "\n",
    "data_test = df_filtered.query('Age > 30 & Age <= 40')\n",
    "\n",
    "T_test(data_test[data_test['Ethnicity'] == 'White']['Salary'],\n",
    "                                data_test[data_test['Ethnicity'] != 'White']['Salary'])\n",
    "\n",
    "data_test = df_filtered.query('Age > 10 & Age <= 50')\n",
    "\n",
    "T_test(data_test[data_test['Ethnicity'] == 'White']['Salary'],\n",
    "                                data_test[data_test['Ethnicity'] != 'White']['Salary'])\n",
    "\n",
    "data_test = df_filtered.query('Age > 50')\n",
    "\n",
    "T_test(data_test[data_test['Ethnicity'] == 'White']['Salary'],\n",
    "                                data_test[data_test['Ethnicity'] != 'White']['Salary'])"
   ]
  },
  {
   "cell_type": "markdown",
   "metadata": {},
   "source": [
    "- **Discussion: For all cases we had a high p-value, so we cannot reject the null hypothesis with a high degree of significance for all cases analyzed. Which means that the analyzed company presents close average values ​​for both genders and ethnicities.**"
   ]
  },
  {
   "cell_type": "markdown",
   "metadata": {},
   "source": [
    "- **2. We will test 2 hypothesis for each Department:**\n",
    "\n",
    "    - Hypothesis 1: The mean Man Salary is bigger than Female Salary for each Department:\n",
    "\n",
    "                 - H0: The mean Salary between Man and Female are equal i.e., μ1 = μ2\n",
    "                 - H1: The mean Salary between Man and Female are different i.e., μ1 != μ2\n",
    "                 \n",
    "    - Hypothesis 2: The mean White Ethnicity Salary is bigger than Others Ethnicity Salary for each Department.\n",
    "    \n",
    "                 - H0: The mean Salary between Ethnicitys are equal i.e., μ1 = μ2\n",
    "                 - H1: The mean Salary between Ethnicitys are different i.e., μ1 != μ2"
   ]
  },
  {
   "cell_type": "code",
   "execution_count": 29,
   "metadata": {},
   "outputs": [
    {
     "name": "stderr",
     "output_type": "stream",
     "text": [
      "/tmp/ipykernel_38360/3970188309.py:2: SettingWithCopyWarning: \n",
      "A value is trying to be set on a copy of a slice from a DataFrame.\n",
      "Try using .loc[row_indexer,col_indexer] = value instead\n",
      "\n",
      "See the caveats in the documentation: https://pandas.pydata.org/pandas-docs/stable/user_guide/indexing.html#returning-a-view-versus-a-copy\n",
      "  df_filtered['Department'] = df_filtered['Department'].map(lambda x: x.strip());\n"
     ]
    }
   ],
   "source": [
    "# Some departments have empty spaces around the strings values\n",
    "df_filtered['Department'] = df_filtered['Department'].map(lambda x: x.strip());"
   ]
  },
  {
   "cell_type": "code",
   "execution_count": 32,
   "metadata": {},
   "outputs": [
    {
     "name": "stdout",
     "output_type": "stream",
     "text": [
      "For Software Engineering:\n",
      "Test statistic is -2.422922\n",
      "p-value for two tailed test is 0.059901\n",
      "We do not reject the null hypothesis H0.\n",
      "For Sales:\n",
      "Test statistic is 0.026271\n",
      "p-value for two tailed test is 0.979259\n",
      "We do not reject the null hypothesis H0.\n",
      "For Production:\n",
      "Test statistic is 0.363464\n",
      "p-value for two tailed test is 0.716996\n",
      "We do not reject the null hypothesis H0.\n",
      "For IT/IS:\n",
      "Test statistic is 1.942168\n",
      "p-value for two tailed test is 0.063942\n",
      "We do not reject the null hypothesis H0.\n",
      "For Admin Offices:\n",
      "Test statistic is 0.965657\n",
      "p-value for two tailed test is 0.371508\n",
      "We do not reject the null hypothesis H0.\n"
     ]
    }
   ],
   "source": [
    "departament_list = df_filtered['Department'].unique().tolist()\n",
    "\n",
    "for departament in departament_list:\n",
    "\n",
    "    print(f'For {departament}:')\n",
    "    \n",
    "    data_test = df_filtered[df_filtered['Department'] == departament]\n",
    "\n",
    "    T_test(data_test[data_test['Gender'] == 'Male']['Salary'],\n",
    "                                data_test[data_test['Gender'] == 'Female']['Salary'])"
   ]
  },
  {
   "cell_type": "markdown",
   "metadata": {},
   "source": [
    "- **Discussion: For all Departments we had a high p-value, so we cannot reject the null hypothesis with a high degree of significance for all cases analyzed. Which means that the analyzed company presents close average values ​​for both genders and ethnicities in all departments.**"
   ]
  },
  {
   "cell_type": "markdown",
   "metadata": {},
   "source": [
    "- **3. We will test 2 hypothesis for the 50 oldest employees:**\n",
    "\n",
    "    - Hypothesis 1: The mean Man Salary is bigger than Female Salary:\n",
    "\n",
    "                 - H0: The mean Salary between Man and Female are equal i.e., μ1 = μ2\n",
    "                 - H1: The mean Salary between Man and Female are different i.e., μ1 != μ2\n",
    "                 \n",
    "    - Hypothesis 2: The mean White Ethnicity Salary is bigger than Others Ethnicity Salary.\n",
    "    \n",
    "                 - H0: The mean Salary between Ethnicitys are equal i.e., μ1 = μ2\n",
    "                 - H1: The mean Salary between Ethnicitys are different i.e., μ1 != μ2"
   ]
  },
  {
   "cell_type": "code",
   "execution_count": 33,
   "metadata": {},
   "outputs": [
    {
     "name": "stdout",
     "output_type": "stream",
     "text": [
      "By Gender:\n",
      "Test statistic is 0.751977\n",
      "p-value for two tailed test is 0.455736\n",
      "We do not reject the null hypothesis H0.\n",
      "By Ethnicity:\n",
      "Test statistic is -1.303532\n",
      "p-value for two tailed test is 0.198611\n",
      "We do not reject the null hypothesis H0.\n"
     ]
    }
   ],
   "source": [
    "olders_50 = df_filtered.sort_values(by= 'Start_date').head(50)\n",
    "\n",
    "print('By Gender:')\n",
    "T_test(olders_50[olders_50['Gender'] == 'Male']['Salary'],\n",
    "                                olders_50[olders_50['Gender'] == 'Female']['Salary'])\n",
    "\n",
    "print('By Ethnicity:')\n",
    "T_test(olders_50[olders_50['Ethnicity'] == 'White']['Salary'],\n",
    "                                olders_50[olders_50['Ethnicity'] != 'White']['Salary'])"
   ]
  },
  {
   "cell_type": "markdown",
   "metadata": {},
   "source": [
    "- **Discussion: For the 50 oldest employees we had a high p-value, so we cannot reject the null hypothesis with a high degree of significance for all cases analyzed. Which means that the analyzed company presents close average values ​​for both genders and ethnicities in the 50 oldest employees.**"
   ]
  }
 ],
 "metadata": {
  "kernelspec": {
   "display_name": "Python 3.8.10 64-bit",
   "language": "python",
   "name": "python3"
  },
  "language_info": {
   "codemirror_mode": {
    "name": "ipython",
    "version": 3
   },
   "file_extension": ".py",
   "mimetype": "text/x-python",
   "name": "python",
   "nbconvert_exporter": "python",
   "pygments_lexer": "ipython3",
   "version": "3.8.10"
  },
  "orig_nbformat": 4,
  "vscode": {
   "interpreter": {
    "hash": "916dbcbb3f70747c44a77c7bcd40155683ae19c65e1c03b4aa3499c5328201f1"
   }
  }
 },
 "nbformat": 4,
 "nbformat_minor": 2
}
