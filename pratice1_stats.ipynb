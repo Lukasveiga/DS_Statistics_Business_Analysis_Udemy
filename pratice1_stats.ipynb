{
 "cells": [
  {
   "cell_type": "markdown",
   "metadata": {},
   "source": [
    "### **Atividade Prática 1 do Curso: Statistics for Data Science and Business Analysis (Udemy)**\n",
    "\n",
    "### **Conteúdos abordados nessa seção:**\n",
    "\n",
    "    - Tipos de dados;\n",
    "    - Níveis de medida.\n",
    "    - Estatística Descritiva:\n",
    "        * Variáveis numéricas e categóricas;\n",
    "        * Medidas de centralidade, assimetria e variabilidade."
   ]
  },
  {
   "cell_type": "markdown",
   "metadata": {},
   "source": [
    "* **Importando as bibliotecas**"
   ]
  },
  {
   "cell_type": "code",
   "execution_count": 10,
   "metadata": {},
   "outputs": [],
   "source": [
    "# Bibliotecas básicas\n",
    "import numpy as np\n",
    "import pandas as pd\n",
    "\n",
    "# Bibliotecas de Visualização\n",
    "import seaborn as sns\n",
    "import matplotlib.pyplot as plt\n",
    "\n",
    "## Configurações de Visualização\n",
    "%matplotlib inline\n",
    "sns.set_style('darkgrid')\n",
    "sns.set_context('paper', font_scale = 1.3)"
   ]
  },
  {
   "cell_type": "markdown",
   "metadata": {},
   "source": [
    "* **Carregamento do banco de dados**"
   ]
  },
  {
   "cell_type": "code",
   "execution_count": 3,
   "metadata": {},
   "outputs": [
    {
     "data": {
      "text/html": [
       "<div>\n",
       "<style scoped>\n",
       "    .dataframe tbody tr th:only-of-type {\n",
       "        vertical-align: middle;\n",
       "    }\n",
       "\n",
       "    .dataframe tbody tr th {\n",
       "        vertical-align: top;\n",
       "    }\n",
       "\n",
       "    .dataframe thead th {\n",
       "        text-align: right;\n",
       "    }\n",
       "</style>\n",
       "<table border=\"1\" class=\"dataframe\">\n",
       "  <thead>\n",
       "    <tr style=\"text-align: right;\">\n",
       "      <th></th>\n",
       "      <th>ID</th>\n",
       "      <th>Building</th>\n",
       "      <th>Year of sale</th>\n",
       "      <th>Month of sale</th>\n",
       "      <th>Type of property</th>\n",
       "      <th>Property #</th>\n",
       "      <th>Area (ft.)</th>\n",
       "      <th>Price</th>\n",
       "      <th>Status</th>\n",
       "      <th>Customer ID</th>\n",
       "      <th>...</th>\n",
       "      <th>Y</th>\n",
       "      <th>M</th>\n",
       "      <th>D</th>\n",
       "      <th>Gender</th>\n",
       "      <th>Country</th>\n",
       "      <th>State</th>\n",
       "      <th>Purpose</th>\n",
       "      <th>Deal satisfaction</th>\n",
       "      <th>Mortgage</th>\n",
       "      <th>Source</th>\n",
       "    </tr>\n",
       "  </thead>\n",
       "  <tbody>\n",
       "    <tr>\n",
       "      <th>0</th>\n",
       "      <td>1030</td>\n",
       "      <td>1</td>\n",
       "      <td>2005</td>\n",
       "      <td>11</td>\n",
       "      <td>Apartment</td>\n",
       "      <td>30</td>\n",
       "      <td>743.0856</td>\n",
       "      <td>246172.6760</td>\n",
       "      <td>Sold</td>\n",
       "      <td>C0028</td>\n",
       "      <td>...</td>\n",
       "      <td>1986</td>\n",
       "      <td>6</td>\n",
       "      <td>21</td>\n",
       "      <td>F</td>\n",
       "      <td>USA</td>\n",
       "      <td>California</td>\n",
       "      <td>Home</td>\n",
       "      <td>5</td>\n",
       "      <td>No</td>\n",
       "      <td>Website</td>\n",
       "    </tr>\n",
       "    <tr>\n",
       "      <th>1</th>\n",
       "      <td>1029</td>\n",
       "      <td>1</td>\n",
       "      <td>2005</td>\n",
       "      <td>10</td>\n",
       "      <td>Apartment</td>\n",
       "      <td>29</td>\n",
       "      <td>756.2128</td>\n",
       "      <td>246331.9040</td>\n",
       "      <td>Sold</td>\n",
       "      <td>C0027</td>\n",
       "      <td>...</td>\n",
       "      <td>1983</td>\n",
       "      <td>2</td>\n",
       "      <td>24</td>\n",
       "      <td>F</td>\n",
       "      <td>USA</td>\n",
       "      <td>California</td>\n",
       "      <td>Home</td>\n",
       "      <td>5</td>\n",
       "      <td>No</td>\n",
       "      <td>Website</td>\n",
       "    </tr>\n",
       "    <tr>\n",
       "      <th>2</th>\n",
       "      <td>2002</td>\n",
       "      <td>2</td>\n",
       "      <td>2007</td>\n",
       "      <td>7</td>\n",
       "      <td>Apartment</td>\n",
       "      <td>2</td>\n",
       "      <td>587.2808</td>\n",
       "      <td>209280.9104</td>\n",
       "      <td>Sold</td>\n",
       "      <td>C0112</td>\n",
       "      <td>...</td>\n",
       "      <td>1985</td>\n",
       "      <td>12</td>\n",
       "      <td>27</td>\n",
       "      <td>M</td>\n",
       "      <td>USA</td>\n",
       "      <td>California</td>\n",
       "      <td>Home</td>\n",
       "      <td>1</td>\n",
       "      <td>Yes</td>\n",
       "      <td>Client</td>\n",
       "    </tr>\n",
       "    <tr>\n",
       "      <th>3</th>\n",
       "      <td>2031</td>\n",
       "      <td>2</td>\n",
       "      <td>2007</td>\n",
       "      <td>12</td>\n",
       "      <td>Apartment</td>\n",
       "      <td>31</td>\n",
       "      <td>1604.7464</td>\n",
       "      <td>452667.0064</td>\n",
       "      <td>Sold</td>\n",
       "      <td>C0160</td>\n",
       "      <td>...</td>\n",
       "      <td>1985</td>\n",
       "      <td>12</td>\n",
       "      <td>27</td>\n",
       "      <td>M</td>\n",
       "      <td>USA</td>\n",
       "      <td>California</td>\n",
       "      <td>Investment</td>\n",
       "      <td>3</td>\n",
       "      <td>Yes</td>\n",
       "      <td>Website</td>\n",
       "    </tr>\n",
       "    <tr>\n",
       "      <th>4</th>\n",
       "      <td>1049</td>\n",
       "      <td>1</td>\n",
       "      <td>2004</td>\n",
       "      <td>11</td>\n",
       "      <td>Apartment</td>\n",
       "      <td>49</td>\n",
       "      <td>1375.4508</td>\n",
       "      <td>467083.3132</td>\n",
       "      <td>Sold</td>\n",
       "      <td>C0014</td>\n",
       "      <td>...</td>\n",
       "      <td>1979</td>\n",
       "      <td>5</td>\n",
       "      <td>15</td>\n",
       "      <td>F</td>\n",
       "      <td>USA</td>\n",
       "      <td>California</td>\n",
       "      <td>Home</td>\n",
       "      <td>4</td>\n",
       "      <td>No</td>\n",
       "      <td>Agency</td>\n",
       "    </tr>\n",
       "  </tbody>\n",
       "</table>\n",
       "<p>5 rows × 25 columns</p>\n",
       "</div>"
      ],
      "text/plain": [
       "     ID  Building  Year of sale  Month of sale Type of property  Property #  \\\n",
       "0  1030         1          2005             11        Apartment          30   \n",
       "1  1029         1          2005             10        Apartment          29   \n",
       "2  2002         2          2007              7        Apartment           2   \n",
       "3  2031         2          2007             12        Apartment          31   \n",
       "4  1049         1          2004             11        Apartment          49   \n",
       "\n",
       "   Area (ft.)        Price Status Customer ID  ...     Y   M   D Gender  \\\n",
       "0    743.0856  246172.6760   Sold       C0028  ...  1986   6  21      F   \n",
       "1    756.2128  246331.9040   Sold       C0027  ...  1983   2  24      F   \n",
       "2    587.2808  209280.9104   Sold       C0112  ...  1985  12  27      M   \n",
       "3   1604.7464  452667.0064   Sold       C0160  ...  1985  12  27      M   \n",
       "4   1375.4508  467083.3132   Sold       C0014  ...  1979   5  15      F   \n",
       "\n",
       "  Country       State     Purpose Deal satisfaction Mortgage   Source  \n",
       "0     USA  California        Home                 5       No  Website  \n",
       "1     USA  California        Home                 5       No  Website  \n",
       "2     USA  California        Home                 1      Yes   Client  \n",
       "3     USA  California  Investment                 3      Yes  Website  \n",
       "4     USA  California        Home                 4       No   Agency  \n",
       "\n",
       "[5 rows x 25 columns]"
      ]
     },
     "execution_count": 3,
     "metadata": {},
     "output_type": "execute_result"
    }
   ],
   "source": [
    "path = 'datasets/Practical1_exercise.xlsx'\n",
    "df = pd.read_excel(path, keep_default_na= False)  # not interpret NA strings at load time\n",
    "\n",
    "df.head()"
   ]
  },
  {
   "cell_type": "markdown",
   "metadata": {},
   "source": [
    "* Task 1: What are the types of data and the levels of measurement of the following variables: Cust ID, Mortgage, Year of sale:"
   ]
  },
  {
   "cell_type": "code",
   "execution_count": null,
   "metadata": {},
   "outputs": [],
   "source": [
    "# Cust ID: Categorical and nominal.\n",
    "# Mortgage: Categorical and ordinal.\n",
    "# Year of Sale: Numerical and interval."
   ]
  },
  {
   "cell_type": "markdown",
   "metadata": {},
   "source": [
    "* Task 2: Create a frequency distribution graph representing the price (that is a histogram with the highest possible number of bins - 272). Use data on all apartments and offices, no matter if sold or not.\n",
    "\n",
    "* Task 3: Create a histogram which represents the Price variable. Choose interval width (bins) of length $100,000. If you don't know how to do that, refer to the Course notes on descriptive statistics provided with the first lecture in this section."
   ]
  },
  {
   "cell_type": "code",
   "execution_count": 23,
   "metadata": {},
   "outputs": [
    {
     "data": {
      "image/png": "[encoded data removed]",
      "text/plain": [
       "<Figure size 1296x432 with 2 Axes>"
      ]
     },
     "metadata": {},
     "output_type": "display_data"
    }
   ],
   "source": [
    "fig, ax = plt.subplots(1,2, figsize = (18, 6))\n",
    "sns.histplot(data = df, x = 'Price', bins = 195, ax = ax[0]);\n",
    "sns.histplot(data = df, x = 'Price', kde = True, ax = ax[1]);"
   ]
  },
  {
   "cell_type": "markdown",
   "metadata": {},
   "source": [
    "* Task 5: Create a scatter plot showing the relationship between Price and Area. Use the data on all properties, no matter if sold or not. Interpret the results."
   ]
  },
  {
   "cell_type": "code",
   "execution_count": 24,
   "metadata": {},
   "outputs": [
    {
     "data": {
      "image/png": "[encoded data removed]",
      "text/plain": [
       "<Figure size 864x432 with 1 Axes>"
      ]
     },
     "metadata": {},
     "output_type": "display_data"
    }
   ],
   "source": [
    "plt.figure(figsize= (12,6))\n",
    "sns.regplot(data = df, x = 'Price', y = 'Area (ft.)');"
   ]
  },
  {
   "cell_type": "code",
   "execution_count": 17,
   "metadata": {},
   "outputs": [
    {
     "data": {
      "text/html": [
       "<div>\n",
       "<style scoped>\n",
       "    .dataframe tbody tr th:only-of-type {\n",
       "        vertical-align: middle;\n",
       "    }\n",
       "\n",
       "    .dataframe tbody tr th {\n",
       "        vertical-align: top;\n",
       "    }\n",
       "\n",
       "    .dataframe thead th {\n",
       "        text-align: right;\n",
       "    }\n",
       "</style>\n",
       "<table border=\"1\" class=\"dataframe\">\n",
       "  <thead>\n",
       "    <tr style=\"text-align: right;\">\n",
       "      <th></th>\n",
       "      <th>Price</th>\n",
       "      <th>Area (ft.)</th>\n",
       "    </tr>\n",
       "  </thead>\n",
       "  <tbody>\n",
       "    <tr>\n",
       "      <th>Price</th>\n",
       "      <td>1.000000</td>\n",
       "      <td>0.941203</td>\n",
       "    </tr>\n",
       "    <tr>\n",
       "      <th>Area (ft.)</th>\n",
       "      <td>0.941203</td>\n",
       "      <td>1.000000</td>\n",
       "    </tr>\n",
       "  </tbody>\n",
       "</table>\n",
       "</div>"
      ],
      "text/plain": [
       "               Price  Area (ft.)\n",
       "Price       1.000000    0.941203\n",
       "Area (ft.)  0.941203    1.000000"
      ]
     },
     "execution_count": 17,
     "metadata": {},
     "output_type": "execute_result"
    }
   ],
   "source": [
    "'''É possível verificar uma forte correlação entre a aŕea do imóvel e o seu respectivo preço. Confirmando essa relação com o método de correlação de spearman abaixo.'''\n",
    "df[['Price', 'Area (ft.)']].corr()"
   ]
  },
  {
   "cell_type": "markdown",
   "metadata": {},
   "source": [
    "* Task 6: Create a frequency distribution table, where you list all the countries from which the company has buyers (country vs number of buyers). Count the absolute frequency, the relative frequency and the cumulative frequency. \n",
    "\n",
    "* Task 7: Create a Pareto diagram representing the data."
   ]
  },
  {
   "cell_type": "code",
   "execution_count": 5,
   "metadata": {},
   "outputs": [
    {
     "data": {
      "text/html": [
       "<div>\n",
       "<style scoped>\n",
       "    .dataframe tbody tr th:only-of-type {\n",
       "        vertical-align: middle;\n",
       "    }\n",
       "\n",
       "    .dataframe tbody tr th {\n",
       "        vertical-align: top;\n",
       "    }\n",
       "\n",
       "    .dataframe thead th {\n",
       "        text-align: right;\n",
       "    }\n",
       "</style>\n",
       "<table border=\"1\" class=\"dataframe\">\n",
       "  <thead>\n",
       "    <tr style=\"text-align: right;\">\n",
       "      <th></th>\n",
       "      <th>Frequency</th>\n",
       "    </tr>\n",
       "  </thead>\n",
       "  <tbody>\n",
       "    <tr>\n",
       "      <th>USA</th>\n",
       "      <td>177</td>\n",
       "    </tr>\n",
       "    <tr>\n",
       "      <th>Canada</th>\n",
       "      <td>7</td>\n",
       "    </tr>\n",
       "    <tr>\n",
       "      <th>Russia</th>\n",
       "      <td>4</td>\n",
       "    </tr>\n",
       "    <tr>\n",
       "      <th>UK</th>\n",
       "      <td>2</td>\n",
       "    </tr>\n",
       "    <tr>\n",
       "      <th>Belgium</th>\n",
       "      <td>2</td>\n",
       "    </tr>\n",
       "    <tr>\n",
       "      <th>Denmark</th>\n",
       "      <td>1</td>\n",
       "    </tr>\n",
       "    <tr>\n",
       "      <th>Germany</th>\n",
       "      <td>1</td>\n",
       "    </tr>\n",
       "    <tr>\n",
       "      <th>Mexico</th>\n",
       "      <td>1</td>\n",
       "    </tr>\n",
       "  </tbody>\n",
       "</table>\n",
       "</div>"
      ],
      "text/plain": [
       "         Frequency\n",
       "USA            177\n",
       "Canada           7\n",
       "Russia           4\n",
       "UK               2\n",
       "Belgium          2\n",
       "Denmark          1\n",
       "Germany          1\n",
       "Mexico           1"
      ]
     },
     "execution_count": 5,
     "metadata": {},
     "output_type": "execute_result"
    }
   ],
   "source": [
    "# Frequência absoluta\n",
    "freq = pd.DataFrame(df['Country'].value_counts().sort_values(ascending= False))\n",
    "freq.columns = ['Frequency']\n",
    "freq"
   ]
  },
  {
   "cell_type": "code",
   "execution_count": 25,
   "metadata": {},
   "outputs": [
    {
     "data": {
      "text/html": [
       "<div>\n",
       "<style scoped>\n",
       "    .dataframe tbody tr th:only-of-type {\n",
       "        vertical-align: middle;\n",
       "    }\n",
       "\n",
       "    .dataframe tbody tr th {\n",
       "        vertical-align: top;\n",
       "    }\n",
       "\n",
       "    .dataframe thead th {\n",
       "        text-align: right;\n",
       "    }\n",
       "</style>\n",
       "<table border=\"1\" class=\"dataframe\">\n",
       "  <thead>\n",
       "    <tr style=\"text-align: right;\">\n",
       "      <th></th>\n",
       "      <th>Frequency</th>\n",
       "      <th>Relative_freq(%)</th>\n",
       "      <th>Cumulative_freq(%)</th>\n",
       "    </tr>\n",
       "  </thead>\n",
       "  <tbody>\n",
       "    <tr>\n",
       "      <th>USA</th>\n",
       "      <td>177</td>\n",
       "      <td>90.769231</td>\n",
       "      <td>90.769231</td>\n",
       "    </tr>\n",
       "    <tr>\n",
       "      <th>Canada</th>\n",
       "      <td>7</td>\n",
       "      <td>3.589744</td>\n",
       "      <td>94.358974</td>\n",
       "    </tr>\n",
       "    <tr>\n",
       "      <th>Russia</th>\n",
       "      <td>4</td>\n",
       "      <td>2.051282</td>\n",
       "      <td>96.410256</td>\n",
       "    </tr>\n",
       "    <tr>\n",
       "      <th>UK</th>\n",
       "      <td>2</td>\n",
       "      <td>1.025641</td>\n",
       "      <td>97.435897</td>\n",
       "    </tr>\n",
       "    <tr>\n",
       "      <th>Belgium</th>\n",
       "      <td>2</td>\n",
       "      <td>1.025641</td>\n",
       "      <td>98.461538</td>\n",
       "    </tr>\n",
       "    <tr>\n",
       "      <th>Denmark</th>\n",
       "      <td>1</td>\n",
       "      <td>0.512821</td>\n",
       "      <td>98.974359</td>\n",
       "    </tr>\n",
       "    <tr>\n",
       "      <th>Germany</th>\n",
       "      <td>1</td>\n",
       "      <td>0.512821</td>\n",
       "      <td>99.487179</td>\n",
       "    </tr>\n",
       "    <tr>\n",
       "      <th>Mexico</th>\n",
       "      <td>1</td>\n",
       "      <td>0.512821</td>\n",
       "      <td>100.000000</td>\n",
       "    </tr>\n",
       "  </tbody>\n",
       "</table>\n",
       "</div>"
      ],
      "text/plain": [
       "         Frequency  Relative_freq(%)  Cumulative_freq(%)\n",
       "USA            177         90.769231           90.769231\n",
       "Canada           7          3.589744           94.358974\n",
       "Russia           4          2.051282           96.410256\n",
       "UK               2          1.025641           97.435897\n",
       "Belgium          2          1.025641           98.461538\n",
       "Denmark          1          0.512821           98.974359\n",
       "Germany          1          0.512821           99.487179\n",
       "Mexico           1          0.512821          100.000000"
      ]
     },
     "execution_count": 25,
     "metadata": {},
     "output_type": "execute_result"
    }
   ],
   "source": [
    "# Frequência Relativa e Cumulativa\n",
    "freq['Relative_freq(%)'] = freq['Frequency'].apply(lambda x: (x/freq['Frequency'].sum()) * 100)\n",
    "freq['Cumulative_freq(%)'] = freq['Relative_freq(%)'].cumsum()\n",
    "freq"
   ]
  },
  {
   "cell_type": "code",
   "execution_count": 13,
   "metadata": {},
   "outputs": [
    {
     "data": {
      "image/png": "[encoded data removed]",
      "text/plain": [
       "<Figure size 864x432 with 2 Axes>"
      ]
     },
     "metadata": {},
     "output_type": "display_data"
    }
   ],
   "source": [
    "# Diagrama de pareto\n",
    "from matplotlib.ticker import PercentFormatter\n",
    "\n",
    "fig, ax = plt.subplots(figsize = (12,6))\n",
    "ax.bar(freq.index, freq['Frequency'], color = 'C0')\n",
    "ax2 = ax.twinx()\n",
    "ax2.plot(freq.index, freq['Cumulative_freq(%)'], color= 'C1', marker= 'D')\n",
    "ax2.yaxis.set_major_formatter(PercentFormatter())\n",
    "\n",
    "ax.set_title('Pareto Diagram', fontsize=15)\n",
    "ax.tick_params(axis=\"y\", colors=\"C0\")\n",
    "ax.tick_params(axis=\"x\", rotation = 45)\n",
    "ax2.tick_params(axis=\"y\", colors=\"C1\")\n",
    "plt.show()"
   ]
  },
  {
   "cell_type": "markdown",
   "metadata": {},
   "source": [
    "* Task 8: Calculate the mean, median, mode, skewness, variance and standard deviation of Price for all properties, no matter if sold or not."
   ]
  },
  {
   "cell_type": "code",
   "execution_count": 14,
   "metadata": {},
   "outputs": [
    {
     "name": "stdout",
     "output_type": "stream",
     "text": [
      "Mean: 269434.5610.\n",
      "Median: 243052.5904.\n",
      "Mode: ModeResult(mode=array([460001.256]), count=array([2])).\n",
      "Std: 80129.0942.\n",
      "Var: 6387745214.2935.\n",
      "Skewness: 1.1950.\n"
     ]
    }
   ],
   "source": [
    "import scipy.stats\n",
    "\n",
    "mean   = df['Price'].mean()\n",
    "median = df['Price'].median()\n",
    "mode   = scipy.stats.mode(df['Price'])\n",
    "std    = df['Price'].std()\n",
    "var    = np.var(df['Price'])\n",
    "skew   = scipy.stats.skew(df['Price'])\n",
    "\n",
    "print(f'Mean: {mean:.4f}.')\n",
    "print(f'Median: {median:.4f}.')\n",
    "print(f'Mode: {mode}.')\n",
    "print(f'Std: {std:.4f}.')\n",
    "print(f'Var: {var:.4f}.')\n",
    "print(f'Skewness: {skew:.4f}.')"
   ]
  },
  {
   "cell_type": "markdown",
   "metadata": {},
   "source": [
    "* Task 10: Calculate the covariance and correlation coefficient between Price and Area, no matter if the property is sold or not. Is the result in line with the scatter plot?"
   ]
  },
  {
   "cell_type": "code",
   "execution_count": 81,
   "metadata": {},
   "outputs": [
    {
     "data": {
      "text/html": [
       "<div>\n",
       "<style scoped>\n",
       "    .dataframe tbody tr th:only-of-type {\n",
       "        vertical-align: middle;\n",
       "    }\n",
       "\n",
       "    .dataframe tbody tr th {\n",
       "        vertical-align: top;\n",
       "    }\n",
       "\n",
       "    .dataframe thead th {\n",
       "        text-align: right;\n",
       "    }\n",
       "</style>\n",
       "<table border=\"1\" class=\"dataframe\">\n",
       "  <thead>\n",
       "    <tr style=\"text-align: right;\">\n",
       "      <th></th>\n",
       "      <th>Price</th>\n",
       "      <th>Area (ft.)</th>\n",
       "    </tr>\n",
       "  </thead>\n",
       "  <tbody>\n",
       "    <tr>\n",
       "      <th>Price</th>\n",
       "      <td>1.000000</td>\n",
       "      <td>0.941203</td>\n",
       "    </tr>\n",
       "    <tr>\n",
       "      <th>Area (ft.)</th>\n",
       "      <td>0.941203</td>\n",
       "      <td>1.000000</td>\n",
       "    </tr>\n",
       "  </tbody>\n",
       "</table>\n",
       "</div>"
      ],
      "text/plain": [
       "               Price  Area (ft.)\n",
       "Price       1.000000    0.941203\n",
       "Area (ft.)  0.941203    1.000000"
      ]
     },
     "execution_count": 81,
     "metadata": {},
     "output_type": "execute_result"
    }
   ],
   "source": [
    "# Spearman correlation\n",
    "df[['Price', 'Area (ft.)']].corr()"
   ]
  },
  {
   "cell_type": "code",
   "execution_count": 86,
   "metadata": {},
   "outputs": [
    {
     "data": {
      "text/plain": [
       "19720961.667512327"
      ]
     },
     "execution_count": 86,
     "metadata": {},
     "output_type": "execute_result"
    }
   ],
   "source": [
    "def covariance(x, y):\n",
    "    # Finding the mean of the series x and y\n",
    "    mean_x = sum(x)/float(len(x))\n",
    "    mean_y = sum(y)/float(len(y))\n",
    "    # Subtracting mean from the individual elements\n",
    "    sub_x = [i - mean_x for i in x]\n",
    "    sub_y = [i - mean_y for i in y]\n",
    "    numerator = sum([sub_x[i]*sub_y[i] for i in range(len(sub_x))])\n",
    "    denominator = len(x)-1\n",
    "    cov = numerator/denominator\n",
    "    return cov\n",
    "\n",
    "covariance(df['Price'], df['Area (ft.)'])"
   ]
  },
  {
   "cell_type": "markdown",
   "metadata": {},
   "source": [
    "* O resultado do coeficiente de correalção coincide com a correlação observada no gráfico de dispersão (scatter plot), onde quanto maior a área do imóvel maior o preço do mesmo."
   ]
  }
 ],
 "metadata": {
  "interpreter": {
   "hash": "916dbcbb3f70747c44a77c7bcd40155683ae19c65e1c03b4aa3499c5328201f1"
  },
  "kernelspec": {
   "display_name": "Python 3.8.10 64-bit",
   "language": "python",
   "name": "python3"
  },
  "language_info": {
   "codemirror_mode": {
    "name": "ipython",
    "version": 3
   },
   "file_extension": ".py",
   "mimetype": "text/x-python",
   "name": "python",
   "nbconvert_exporter": "python",
   "pygments_lexer": "ipython3",
   "version": "3.8.10"
  },
  "orig_nbformat": 4
 },
 "nbformat": 4,
 "nbformat_minor": 2
}
